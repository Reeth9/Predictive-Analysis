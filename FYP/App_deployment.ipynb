{
 "cells": [
  {
   "cell_type": "code",
   "execution_count": 2,
   "metadata": {
    "colab": {
     "base_uri": "https://localhost:8080/"
    },
    "executionInfo": {
     "elapsed": 1006,
     "status": "ok",
     "timestamp": 1618589761950,
     "user": {
      "displayName": "Dragmos Gaming",
      "photoUrl": "https://lh3.googleusercontent.com/a-/AOh14Girw5eGxNEA_d3EpQyQP4ASv7NxNX-kbWhpZ_1r=s64",
      "userId": "18346876575155279102"
     },
     "user_tz": -330
    },
    "id": "qwuY3AN5z04K",
    "outputId": "87e86583-2bbd-45a3-9bc2-e11c764b99e5"
   },
   "outputs": [
    {
     "ename": "ModuleNotFoundError",
     "evalue": "No module named 'google.colab'",
     "output_type": "error",
     "traceback": [
      "\u001b[0;31m---------------------------------------------------------------------------\u001b[0m",
      "\u001b[0;31mModuleNotFoundError\u001b[0m                       Traceback (most recent call last)",
      "\u001b[0;32m<ipython-input-2-d5df0069828e>\u001b[0m in \u001b[0;36m<module>\u001b[0;34m\u001b[0m\n\u001b[0;32m----> 1\u001b[0;31m \u001b[0;32mfrom\u001b[0m \u001b[0mgoogle\u001b[0m\u001b[0;34m.\u001b[0m\u001b[0mcolab\u001b[0m \u001b[0;32mimport\u001b[0m \u001b[0mdrive\u001b[0m\u001b[0;34m\u001b[0m\u001b[0;34m\u001b[0m\u001b[0m\n\u001b[0m\u001b[1;32m      2\u001b[0m \u001b[0mdrive\u001b[0m\u001b[0;34m.\u001b[0m\u001b[0mmount\u001b[0m\u001b[0;34m(\u001b[0m\u001b[0;34m'/content/drive'\u001b[0m\u001b[0;34m)\u001b[0m\u001b[0;34m\u001b[0m\u001b[0;34m\u001b[0m\u001b[0m\n",
      "\u001b[0;31mModuleNotFoundError\u001b[0m: No module named 'google.colab'"
     ]
    }
   ],
   "source": [
    "from google.colab import drive\n",
    "drive.mount('/content/drive')"
   ]
  },
  {
   "cell_type": "code",
   "execution_count": 3,
   "metadata": {
    "colab": {
     "base_uri": "https://localhost:8080/"
    },
    "executionInfo": {
     "elapsed": 1497,
     "status": "ok",
     "timestamp": 1618589765552,
     "user": {
      "displayName": "Dragmos Gaming",
      "photoUrl": "https://lh3.googleusercontent.com/a-/AOh14Girw5eGxNEA_d3EpQyQP4ASv7NxNX-kbWhpZ_1r=s64",
      "userId": "18346876575155279102"
     },
     "user_tz": -330
    },
    "id": "RTpA-K6Rz7DB",
    "outputId": "ca60b6de-3a07-4591-b74d-e13b0237f6e8"
   },
   "outputs": [
    {
     "name": "stdout",
     "output_type": "stream",
     "text": [
      "App_deployment.ipynb                   ngrok\r\n",
      "Back_image.jpg                         ngrok-stable-linux-amd64.zip\r\n",
      "IS_project.csv                         ngrok-stable-linux-amd64.zip.1\r\n",
      "app.py                                 ngrok-stable-linux-amd64.zip.2\r\n",
      "defualt_machine_learning_script.ipynb  result.csv\r\n"
     ]
    }
   ],
   "source": [
    "ls\n"
   ]
  },
  {
   "cell_type": "code",
   "execution_count": 4,
   "metadata": {
    "colab": {
     "base_uri": "https://localhost:8080/"
    },
    "id": "OHVWL9NHmwoJ",
    "outputId": "585d98bb-478e-4e4a-940f-0c2225ab3488"
   },
   "outputs": [
    {
     "name": "stdout",
     "output_type": "stream",
     "text": [
      "zsh:1: command not found: pip\r\n"
     ]
    }
   ],
   "source": [
    "!pip install streamlit"
   ]
  },
  {
   "cell_type": "code",
   "execution_count": 5,
   "metadata": {
    "colab": {
     "base_uri": "https://localhost:8080/"
    },
    "executionInfo": {
     "elapsed": 1268,
     "status": "ok",
     "timestamp": 1618511085328,
     "user": {
      "displayName": "Dragmos Gaming",
      "photoUrl": "https://lh3.googleusercontent.com/a-/AOh14Girw5eGxNEA_d3EpQyQP4ASv7NxNX-kbWhpZ_1r=s64",
      "userId": "18346876575155279102"
     },
     "user_tz": -330
    },
    "id": "4AKWVC1Qs59l",
    "outputId": "4941e912-4bb9-4f24-cea8-f098eb875daf"
   },
   "outputs": [
    {
     "name": "stdout",
     "output_type": "stream",
     "text": [
      "[Errno 2] No such file or directory: '/content/drive/MyDrive/Final_year_projects/reeth'\n",
      "/Users/reethpatne/Desktop/8th Sem/FYP\n"
     ]
    }
   ],
   "source": [
    "cd /content/drive/MyDrive/Final_year_projects/reeth"
   ]
  },
  {
   "cell_type": "code",
   "execution_count": 6,
   "metadata": {
    "colab": {
     "base_uri": "https://localhost:8080/"
    },
    "executionInfo": {
     "elapsed": 4041,
     "status": "ok",
     "timestamp": 1618511088896,
     "user": {
      "displayName": "Dragmos Gaming",
      "photoUrl": "https://lh3.googleusercontent.com/a-/AOh14Girw5eGxNEA_d3EpQyQP4ASv7NxNX-kbWhpZ_1r=s64",
      "userId": "18346876575155279102"
     },
     "user_tz": -330
    },
    "id": "eR4NUTfWn5Mi",
    "outputId": "8478a3c8-c4c7-459e-ce7a-b3f36d2e0561"
   },
   "outputs": [
    {
     "name": "stdout",
     "output_type": "stream",
     "text": [
      "zsh:1: command not found: wget\r\n"
     ]
    }
   ],
   "source": [
    "!wget https://bin.equinox.io/c/4VmDzA7iaHb/ngrok-stable-linux-amd64.zip"
   ]
  },
  {
   "cell_type": "code",
   "execution_count": 7,
   "metadata": {
    "colab": {
     "base_uri": "https://localhost:8080/"
    },
    "executionInfo": {
     "elapsed": 1386,
     "status": "ok",
     "timestamp": 1618511186276,
     "user": {
      "displayName": "Dragmos Gaming",
      "photoUrl": "https://lh3.googleusercontent.com/a-/AOh14Girw5eGxNEA_d3EpQyQP4ASv7NxNX-kbWhpZ_1r=s64",
      "userId": "18346876575155279102"
     },
     "user_tz": -330
    },
    "id": "OZGCOBPbn9sn",
    "outputId": "981bfb0b-23be-4844-fc52-0d8cab6e8476"
   },
   "outputs": [
    {
     "name": "stdout",
     "output_type": "stream",
     "text": [
      "Archive:  ngrok-stable-linux-amd64.zip\n",
      "replace ngrok? [y]es, [n]o, [A]ll, [N]one, [r]ename:   inflating: ngrok                   \n"
     ]
    }
   ],
   "source": [
    "!unzip ngrok-stable-linux-amd64.zip <<< \"A\""
   ]
  },
  {
   "cell_type": "code",
   "execution_count": 8,
   "metadata": {
    "id": "hU4Nrd--oAsX"
   },
   "outputs": [],
   "source": [
    "get_ipython().system_raw('./ngrok http 8501 &')"
   ]
  },
  {
   "cell_type": "code",
   "execution_count": 9,
   "metadata": {
    "colab": {
     "base_uri": "https://localhost:8080/"
    },
    "executionInfo": {
     "elapsed": 1795,
     "status": "ok",
     "timestamp": 1618511197933,
     "user": {
      "displayName": "Dragmos Gaming",
      "photoUrl": "https://lh3.googleusercontent.com/a-/AOh14Girw5eGxNEA_d3EpQyQP4ASv7NxNX-kbWhpZ_1r=s64",
      "userId": "18346876575155279102"
     },
     "user_tz": -330
    },
    "id": "tScINBg7oGei",
    "outputId": "139524bb-60e4-43c2-a61a-0467d81dad00"
   },
   "outputs": [
    {
     "name": "stdout",
     "output_type": "stream",
     "text": [
      "Traceback (most recent call last):\r\n",
      "  File \"<string>\", line 1, in <module>\r\n",
      "  File \"/Library/Frameworks/Python.framework/Versions/3.9/lib/python3.9/json/__init__.py\", line 293, in load\r\n",
      "    return loads(fp.read(),\r\n",
      "  File \"/Library/Frameworks/Python.framework/Versions/3.9/lib/python3.9/json/__init__.py\", line 346, in loads\r\n",
      "    return _default_decoder.decode(s)\r\n",
      "  File \"/Library/Frameworks/Python.framework/Versions/3.9/lib/python3.9/json/decoder.py\", line 337, in decode\r\n",
      "    obj, end = self.raw_decode(s, idx=_w(s, 0).end())\r\n",
      "  File \"/Library/Frameworks/Python.framework/Versions/3.9/lib/python3.9/json/decoder.py\", line 355, in raw_decode\r\n",
      "    raise JSONDecodeError(\"Expecting value\", s, err.value) from None\r\n",
      "json.decoder.JSONDecodeError: Expecting value: line 1 column 1 (char 0)\r\n"
     ]
    }
   ],
   "source": [
    "!curl -s http://localhost:4040/api/tunnels | python3 -c \\\n",
    "    'import sys, json; print(\"Execute the next cell and the go to the following URL: \" +json.load(sys.stdin)[\"tunnels\"][0][\"public_url\"])'"
   ]
  },
  {
   "cell_type": "code",
   "execution_count": 10,
   "metadata": {
    "colab": {
     "base_uri": "https://localhost:8080/"
    },
    "executionInfo": {
     "elapsed": 818023,
     "status": "ok",
     "timestamp": 1618512026862,
     "user": {
      "displayName": "Dragmos Gaming",
      "photoUrl": "https://lh3.googleusercontent.com/a-/AOh14Girw5eGxNEA_d3EpQyQP4ASv7NxNX-kbWhpZ_1r=s64",
      "userId": "18346876575155279102"
     },
     "user_tz": -330
    },
    "id": "XlUIlf_ym1Il",
    "outputId": "847fdc45-c838-4962-b816-2b1501a80766"
   },
   "outputs": [
    {
     "name": "stdout",
     "output_type": "stream",
     "text": [
      "zsh:1: command not found: streamlit\r\n"
     ]
    }
   ],
   "source": [
    "!streamlit run app.py"
   ]
  },
  {
   "cell_type": "code",
   "execution_count": null,
   "metadata": {
    "id": "w_YDPFluzwEL"
   },
   "outputs": [],
   "source": []
  },
  {
   "cell_type": "code",
   "execution_count": null,
   "metadata": {
    "id": "B8TXsuinzwEM"
   },
   "outputs": [],
   "source": []
  }
 ],
 "metadata": {
  "accelerator": "GPU",
  "colab": {
   "collapsed_sections": [],
   "name": "App_deployment.ipynb",
   "provenance": []
  },
  "kernelspec": {
   "display_name": "Python 3",
   "language": "python",
   "name": "python3"
  },
  "language_info": {
   "codemirror_mode": {
    "name": "ipython",
    "version": 3
   },
   "file_extension": ".py",
   "mimetype": "text/x-python",
   "name": "python",
   "nbconvert_exporter": "python",
   "pygments_lexer": "ipython3",
   "version": "3.8.3"
  }
 },
 "nbformat": 4,
 "nbformat_minor": 1
}
